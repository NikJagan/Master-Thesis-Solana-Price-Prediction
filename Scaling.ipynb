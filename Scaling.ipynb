{
 "cells": [
  {
   "cell_type": "code",
   "execution_count": 1,
   "metadata": {},
   "outputs": [],
   "source": [
    "import os\n",
    "import pandas as pd\n",
    "import numpy as np\n",
    "import matplotlib.pyplot as plt\n",
    "import seaborn as sns\n",
    "from sklearn.preprocessing import MinMaxScaler, StandardScaler\n",
    "from sklearn.model_selection import train_test_split"
   ]
  },
  {
   "cell_type": "code",
   "execution_count": null,
   "metadata": {},
   "outputs": [],
   "source": [
    "# Set working directory\n",
    "os.chdir(r'C:\\Users\\Nik\\Desktop\\R File Thesis')\n",
    "\n",
    "# Import CSV files\n",
    "df = pd.read_csv('df1.csv')\n",
    "\n",
    "print(df.head())"
   ]
  },
  {
   "cell_type": "code",
   "execution_count": null,
   "metadata": {},
   "outputs": [],
   "source": [
    "# Convert 'Date' column to datetime format and set as index\n",
    "df['Date'] = pd.to_datetime(df['Date'])\n",
    "df.set_index('Date', inplace=True)\n",
    "\n",
    "# Filter columns\n",
    "filtered_columns = [col for col in df.columns if col.endswith('_close') or col.endswith('_volume') or col == 'CPILFESL']\n",
    "\n",
    "\n",
    "# Create a new DataFrame with the filtered columns\n",
    "df = df[filtered_columns]"
   ]
  },
  {
   "cell_type": "code",
   "execution_count": null,
   "metadata": {},
   "outputs": [],
   "source": [
    "# Define shorter EMA spans\n",
    "short_ema_span = 6\n",
    "long_ema_span = 13\n",
    "signal_span = 9\n",
    "\n",
    "# Calculate the MACD line\n",
    "df['MACD'] = df['sol_close'].ewm(span=short_ema_span, adjust=False).mean() - df['sol_close'].ewm(span=long_ema_span, adjust=False).mean()\n",
    "\n",
    "# Calculate the Signal Line\n",
    "df['Signal_Line'] = df['MACD'].ewm(span=signal_span, adjust=False).mean()"
   ]
  },
  {
   "cell_type": "code",
   "execution_count": null,
   "metadata": {},
   "outputs": [],
   "source": [
    "# Define the trend classes based on MACD and Signal Line\n",
    "df['sol_trend'] = np.where(df['MACD'] > df['Signal_Line'], 1, 0)\n",
    "\n",
    "# Drop NaN values\n",
    "df = df.dropna()\n",
    "\n",
    "# Drop the MACD and Signal_Line columns\n",
    "df = df.drop(columns=['MACD', 'Signal_Line'])"
   ]
  }
 ],
 "metadata": {
  "kernelspec": {
   "display_name": "Python 3",
   "language": "python",
   "name": "python3"
  },
  "language_info": {
   "codemirror_mode": {
    "name": "ipython",
    "version": 3
   },
   "file_extension": ".py",
   "mimetype": "text/x-python",
   "name": "python",
   "nbconvert_exporter": "python",
   "pygments_lexer": "ipython3",
   "version": "3.12.4"
  }
 },
 "nbformat": 4,
 "nbformat_minor": 2
}
